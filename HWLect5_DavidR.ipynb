{
 "cells": [
  {
   "cell_type": "code",
   "execution_count": 1,
   "metadata": {
    "collapsed": true
   },
   "outputs": [],
   "source": [
    "from matplotlib import pyplot as plt\n",
    "import math\n",
    "import numpy as np\n",
    "from scipy import stats"
   ]
  },
  {
   "cell_type": "code",
   "execution_count": 2,
   "metadata": {
    "collapsed": true
   },
   "outputs": [],
   "source": [
    "###David R. Rice\n",
    "###Phys 604 Prof. Zhu\n",
    "###Lecture 5 Homework"
   ]
  },
  {
   "cell_type": "code",
   "execution_count": 3,
   "metadata": {
    "collapsed": true
   },
   "outputs": [],
   "source": [
    "#1 Evalue derivative of cos(x) at pi/4 using forward difference scheme\n",
    "#Forward Difference\n",
    "def derifw(y,x,dx):\n",
    "    return (y(x+dx)-y(x))/dx"
   ]
  },
  {
   "cell_type": "code",
   "execution_count": 4,
   "metadata": {},
   "outputs": [
    {
     "name": "stdout",
     "output_type": "stream",
     "text": [
      "analytical = -0.707107\n",
      "dx 1e-16,  y -1.11022\n",
      "dx 1e-15,  y -0.777156\n",
      "dx 1e-14,  y -0.710543\n",
      "dx 1e-13,  y -0.707212\n",
      "dx 1e-12,  y -0.707101\n",
      "dx 1e-11,  y -0.707112\n",
      "dx 1e-10,  y -0.707107\n",
      "dx 1e-09,  y -0.707107\n",
      "dx 1e-08,  y -0.707107\n",
      "dx 1e-07,  y -0.707107\n",
      "dx 1e-06,  y -0.707107\n",
      "dx 1e-05,  y -0.70711\n",
      "dx 0.0001,  y -0.707142\n",
      "dx 0.001,  y -0.70746\n",
      "dx 0.01,  y -0.710631\n",
      "dx 0.1,  y -0.741255\n"
     ]
    }
   ],
   "source": [
    "#1 Evalue derivative of cos(x) at pi/4 using forward difference scheme\n",
    "x=np.pi/4.0\n",
    "dxarr=[]\n",
    "yarr=[]\n",
    "real=-np.sin(x)\n",
    "print('analytical = %g' %real)\n",
    "for dx in 10.**np.arange(-16, 0, 1):\n",
    "    y=derifw(np.cos,x,dx)\n",
    "    print('dx %g,  y %g'%(dx,y))\n",
    "    dxarr.append(dx)\n",
    "    yarr.append(y)"
   ]
  },
  {
   "cell_type": "code",
   "execution_count": 5,
   "metadata": {},
   "outputs": [
    {
     "name": "stdout",
     "output_type": "stream",
     "text": [
      "0.948532282432\n",
      "-0.610108478797\n",
      "0.994495495011\n",
      "5.22279931887e-08\n",
      "0.0288094001555\n"
     ]
    },
    {
     "data": {
      "text/plain": [
       "Text(-8.5,-1,'slope = 0.949')"
      ]
     },
     "execution_count": 5,
     "metadata": {},
     "output_type": "execute_result"
    }
   ],
   "source": [
    "#Graph of error from analytical solution vs step size (dx)\n",
    "\n",
    "logdxarr=[]\n",
    "logerr=[]\n",
    "for i in range(len(dxarr)):\n",
    "    logdxarr.append(math.log(dxarr[i],10.0))\n",
    "    logerr.append(math.log(abs(yarr[i]+np.sin(x)),10.0))\n",
    "    \n",
    "plt.plot(logdxarr,logerr,linewidth=2.5,label='Forward Diff')\n",
    "plt.xlabel('log(dx)')\n",
    "plt.ylabel('log(Error)')\n",
    "\n",
    "#Fit slope (n) on log plot to find how error~dx^n\n",
    "slope, intercept, r_value, p_value, std_err = stats.linregress(logdxarr[8:16],logerr[8:16])\n",
    "xlin = np.arange(-8,-1,0.1)\n",
    "y = slope*xlin+intercept\n",
    "print(slope)\n",
    "print(intercept)\n",
    "print(r_value**2)\n",
    "print(p_value)\n",
    "print(std_err)\n",
    "plt.plot(xlin,y, color='k', linestyle='--', label='Lin. Reg.')\n",
    "plt.legend()\n",
    "plt.text(-8.5,-1,'slope = %.3g'%slope,color='b')\n"
   ]
  },
  {
   "cell_type": "code",
   "execution_count": 6,
   "metadata": {},
   "outputs": [],
   "source": [
    "##2 Central Difference Scheme calculate cos'(pi/4)\n",
    "def dericd(y,t,h):\n",
    "    higher=y(t+(h/2.))\n",
    "    lower=y(t-(h/2.))\n",
    "    return (higher-lower)/h"
   ]
  },
  {
   "cell_type": "code",
   "execution_count": 7,
   "metadata": {},
   "outputs": [
    {
     "name": "stdout",
     "output_type": "stream",
     "text": [
      "analytical = -0.707107\n",
      "dx 1e-16,  y 0\n",
      "dx 1e-15,  y -0.777156\n",
      "dx 1e-14,  y -0.710543\n",
      "dx 1e-13,  y -0.706102\n",
      "dx 1e-12,  y -0.707212\n",
      "dx 1e-11,  y -0.707112\n",
      "dx 1e-10,  y -0.707107\n",
      "dx 1e-09,  y -0.707107\n",
      "dx 1e-08,  y -0.707107\n",
      "dx 1e-07,  y -0.707107\n",
      "dx 1e-06,  y -0.707107\n",
      "dx 1e-05,  y -0.707107\n",
      "dx 0.0001,  y -0.707107\n",
      "dx 0.001,  y -0.707107\n",
      "dx 0.01,  y -0.707104\n",
      "dx 0.1,  y -0.706812\n"
     ]
    }
   ],
   "source": [
    "#Evaluate\n",
    "x=np.pi/4.0\n",
    "dxarr=[]\n",
    "yarr=[]\n",
    "real=-np.sin(x)\n",
    "print('analytical = %g' %real)\n",
    "for dx in 10.**np.arange(-16, 0, 1):\n",
    "    y=dericd(np.cos,x,dx)\n",
    "    print('dx %g,  y %g'%(dx,y))\n",
    "    dxarr.append(dx)\n",
    "    yarr.append(y)"
   ]
  },
  {
   "cell_type": "code",
   "execution_count": 8,
   "metadata": {},
   "outputs": [
    {
     "name": "stdout",
     "output_type": "stream",
     "text": [
      "2.00249607405\n",
      "-1.52572304058\n",
      "0.999998299679\n",
      "9.40991150653e-10\n",
      "0.00150756796295\n"
     ]
    },
    {
     "data": {
      "image/png": "[encoded data removed]",
      "text/plain": [
       "<matplotlib.figure.Figure at 0x7feecabddda0>"
      ]
     },
     "metadata": {},
     "output_type": "display_data"
    }
   ],
   "source": [
    "#Graph of error from analytical solution vs step size (dx)\n",
    "\n",
    "logdxarr=[]\n",
    "logerr=[]\n",
    "for i in range(len(dxarr)):\n",
    "    logdxarr.append(math.log(dxarr[i],10.0))\n",
    "    logerr.append(math.log(abs(yarr[i]+np.sin(x)),10.0))\n",
    "    \n",
    "plt.plot(logdxarr,logerr,linewidth=2.5,color='r',label='Central Diff')\n",
    "plt.xlabel('log(dx)')\n",
    "plt.ylabel('log(Error)')\n",
    "\n",
    "#Fit slope (n) on log plot to find how error~dx^n\n",
    "slope, intercept, r_value, p_value, std_err = stats.linregress(logdxarr[11:16],logerr[11:16])\n",
    "xlin = np.arange(-5,-1,0.1)\n",
    "y = slope*xlin+intercept\n",
    "print(slope)\n",
    "print(intercept)\n",
    "print(r_value**2)\n",
    "print(p_value)\n",
    "print(std_err)\n",
    "plt.plot(xlin,y, color='k', linestyle='--', label='Lin. Reg.')\n",
    "plt.legend()\n",
    "plt.text(-4.2,-1,'slope = %.3g'%slope,color='r')\n",
    "\n",
    "plt.show()\n",
    "plt.clf()"
   ]
  },
  {
   "cell_type": "code",
   "execution_count": 9,
   "metadata": {},
   "outputs": [
    {
     "name": "stdout",
     "output_type": "stream",
     "text": [
      "As shown the central difference scheme reaches a much more accurate number at a larger \"dx\". Central difference is a second order approximation. If differentiating an entire function a larger step would give a faster result.\n"
     ]
    }
   ],
   "source": [
    "## Why is central difference scheme better\n",
    "print(\"As shown the central difference scheme reaches a much more accurate number at a larger \\\"dx\\\". Central difference is a second order approximation. If differentiating an entire function a larger step would give a faster result.\")"
   ]
  },
  {
   "cell_type": "code",
   "execution_count": 11,
   "metadata": {},
   "outputs": [
    {
     "name": "stdout",
     "output_type": "stream",
     "text": [
      "analytical = -0\n",
      "dx 1e-16,  y 0\n",
      "dx 1e-15,  y 0\n",
      "dx 1e-14,  y 0\n",
      "dx 1e-13,  y 0\n",
      "dx 1e-12,  y 0\n",
      "dx 1e-11,  y 0\n",
      "dx 1e-10,  y 0\n",
      "dx 1e-09,  y 0\n",
      "dx 1e-08,  y 0\n",
      "dx 1e-07,  y 0\n",
      "dx 1e-06,  y 0\n",
      "dx 1e-05,  y 0\n",
      "dx 0.0001,  y 0\n",
      "dx 0.001,  y 0\n",
      "dx 0.01,  y 0\n",
      "dx 0.1,  y 0\n",
      "The central difference scheme has an error that depends on the third order derivative which at 0 is 0, thus the computational and analytical solutions converge.\n"
     ]
    }
   ],
   "source": [
    "#Evaluate\n",
    "x=0.\n",
    "dxarr=[]\n",
    "yarr=[]\n",
    "real=-np.sin(x)\n",
    "print('analytical = %g' %real)\n",
    "\n",
    "for dx in 10.**np.arange(-16, 0, 1):\n",
    "    y=dericd(np.cos,x,dx)\n",
    "    print('dx %g,  y %g'%(dx,y))\n",
    "    dxarr.append(dx)\n",
    "    yarr.append(y)\n",
    "\n",
    "print('The central difference scheme has an error that depends on the third order derivative which at 0 is 0, thus the computational and analytical solutions converge.')"
   ]
  },
  {
   "cell_type": "code",
   "execution_count": null,
   "metadata": {
    "collapsed": true
   },
   "outputs": [],
   "source": []
  }
 ],
 "metadata": {
  "kernelspec": {
   "display_name": "Python 3",
   "language": "python",
   "name": "python3"
  },
  "language_info": {
   "codemirror_mode": {
    "name": "ipython",
    "version": 3
   },
   "file_extension": ".py",
   "mimetype": "text/x-python",
   "name": "python",
   "nbconvert_exporter": "python",
   "pygments_lexer": "ipython3",
   "version": "3.6.3"
  }
 },
 "nbformat": 4,
 "nbformat_minor": 2
}
