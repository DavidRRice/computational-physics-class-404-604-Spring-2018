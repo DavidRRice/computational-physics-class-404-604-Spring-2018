{
 "cells": [
  {
   "cell_type": "code",
   "execution_count": 1,
   "metadata": {
    "collapsed": true
   },
   "outputs": [],
   "source": [
    "###David R. Rice\n",
    "###Phys 604 Prof. Zhu\n",
    "###Lecture 20 Homework"
   ]
  },
  {
   "cell_type": "code",
   "execution_count": 2,
   "metadata": {
    "collapsed": true
   },
   "outputs": [],
   "source": [
    "#Interpolation HW given by CHao-Chin Yang\n",
    "#Make an outline through points and use it to compute the area"
   ]
  },
  {
   "cell_type": "code",
   "execution_count": 3,
   "metadata": {
    "collapsed": true
   },
   "outputs": [],
   "source": [
    "import re\n",
    "import numpy as np\n",
    "from matplotlib import pyplot as plt\n",
    "import math"
   ]
  },
  {
   "cell_type": "code",
   "execution_count": 4,
   "metadata": {
    "collapsed": true
   },
   "outputs": [],
   "source": [
    "#Input data into x and y arrays with re\n",
    "inf=open('dataHW20','r')\n",
    "lines=inf.readlines()\n",
    "x1=[];x2=[];x3=[];x4=[]\n",
    "y1=[];y2=[];y3=[];y4=[]\n",
    "x=np.array([])\n",
    "y=np.array([])\n",
    "for line in lines:\n",
    "    div=re.split('\\s+',line)\n",
    "    x1.append(float(div[0]))\n",
    "    y1.append(float(div[1]))\n",
    "    x2.append(float(div[2]))\n",
    "    y2.append(float(div[3]))\n",
    "    x3.append(float(div[4]))\n",
    "    y3.append(float(div[5]))\n",
    "    x4.append(float(div[6]))\n",
    "    y4.append(float(div[7]))\n",
    "x=np.append(x,[x1,x2,x3,x4])\n",
    "y=np.append(y,[y1,y2,y3,y4])"
   ]
  },
  {
   "cell_type": "code",
   "execution_count": 5,
   "metadata": {},
   "outputs": [
    {
     "data": {
      "image/png": "[encoded data removed]",
      "text/plain": [
       "<matplotlib.figure.Figure at 0x7f98e6d82e10>"
      ]
     },
     "metadata": {},
     "output_type": "display_data"
    }
   ],
   "source": [
    "#Rough Plot using Plt\n",
    "plt.plot(x,y)\n",
    "plt.axis([0,14,-6,3])\n",
    "plt.show()"
   ]
  },
  {
   "cell_type": "code",
   "execution_count": 6,
   "metadata": {},
   "outputs": [
    {
     "data": {
      "image/png": "[encoded data removed]",
      "text/plain": [
       "<matplotlib.figure.Figure at 0x7f98d82e0198>"
      ]
     },
     "metadata": {},
     "output_type": "display_data"
    }
   ],
   "source": [
    "#Interpolate using CubicSpline\n",
    "#Make sure to rerun whole page\n",
    "from scipy.interpolate import CubicSpline\n",
    "from scipy.interpolate import barycentric_interpolate \n",
    "\n",
    "#Split points into increasing and decreasing\n",
    "a=np.amin(x)\n",
    "b=np.amax(x)\n",
    "\n",
    "\n",
    "#Clean up arrays to be always increasing and connect. Split before and after \"wing\" (at 5.6).\n",
    "xlow=x[0:list(x).index(b)+1]\n",
    "xhigh=x[len(x):list(x).index(b)-1:-1]\n",
    "xlow=np.insert(xlow,0,x[list(x).index(a)])\n",
    "xhigh1=xhigh[0:list(xhigh).index(5.6)+1]\n",
    "xhigh2=xhigh[list(xhigh).index(5.6)+1:len(xhigh)]\n",
    "\n",
    "ylow=y[0:list(x).index(b)+1]\n",
    "yhigh=y[len(x):list(x).index(b)-1:-1]\n",
    "ylow=np.insert(ylow,0,y[list(x).index(a)])\n",
    "yhigh1=yhigh[0:list(xhigh).index(5.6)+1]\n",
    "yhigh2=yhigh[list(xhigh).index(5.6)+1:len(xhigh)]\n",
    "\n",
    "\n",
    "#Cubic spline with natural boundaries\n",
    "cslow=CubicSpline(xlow,ylow,bc_type=\"natural\")\n",
    "cshigh1=CubicSpline(xhigh1,yhigh1,bc_type=\"natural\")\n",
    "cshigh2=CubicSpline(xhigh2,yhigh2,bc_type=\"natural\")\n",
    "\n",
    "#Plot\n",
    "x1=np.linspace(a,b,2000)\n",
    "x2=np.linspace(a,5.6,1000)\n",
    "x3=np.linspace(5.6,b,1000)\n",
    "\n",
    "plt.plot(x1,cslow(x1))\n",
    "plt.plot(x2,cshigh1(x2))\n",
    "plt.plot(x3,cshigh2(x3))\n",
    "plt.axis([0,14,-6,3])\n",
    "plt.show()"
   ]
  },
  {
   "cell_type": "code",
   "execution_count": 7,
   "metadata": {},
   "outputs": [
    {
     "name": "stdout",
     "output_type": "stream",
     "text": [
      "The area enclosed in the bird shape is approximately28.863373854012806\n"
     ]
    }
   ],
   "source": [
    "##Integrate\n",
    "from scipy.integrate import simps\n",
    "upper=simps(cslow(x1),x1)\n",
    "lower1=simps(cshigh1(x2),x2)\n",
    "lower2=simps(cshigh2(x3),x3)\n",
    "area=upper-lower1-lower2\n",
    "print(\"The area enclosed in the bird shape is approximately\" + str(area))"
   ]
  },
  {
   "cell_type": "code",
   "execution_count": null,
   "metadata": {
    "collapsed": true
   },
   "outputs": [],
   "source": []
  }
 ],
 "metadata": {
  "kernelspec": {
   "display_name": "Python 3",
   "language": "python",
   "name": "python3"
  },
  "language_info": {
   "codemirror_mode": {
    "name": "ipython",
    "version": 3
   },
   "file_extension": ".py",
   "mimetype": "text/x-python",
   "name": "python",
   "nbconvert_exporter": "python",
   "pygments_lexer": "ipython3",
   "version": "3.6.3"
  }
 },
 "nbformat": 4,
 "nbformat_minor": 2
}
