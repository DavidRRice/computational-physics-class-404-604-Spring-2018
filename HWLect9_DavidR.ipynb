{
 "cells": [
  {
   "cell_type": "code",
   "execution_count": 1,
   "metadata": {
    "collapsed": true
   },
   "outputs": [],
   "source": [
    "from matplotlib import pyplot as plt\n",
    "import math as m\n",
    "import numpy as np"
   ]
  },
  {
   "cell_type": "code",
   "execution_count": 2,
   "metadata": {
    "collapsed": true
   },
   "outputs": [],
   "source": [
    "###David R. Rice\n",
    "###Phys 604 Prof. Zhu\n",
    "###Lecture 9 Homework\n",
    "##Shooting Method for Legendre Polynomials"
   ]
  },
  {
   "cell_type": "code",
   "execution_count": 3,
   "metadata": {
    "collapsed": true
   },
   "outputs": [],
   "source": [
    "#Legendre Function\n",
    "def fun(x,y,F):\n",
    "    F[0]=y[1]\n",
    "    F[1]=(2.*x*y[1]-n*(n+1)*y[0])/(1.-x*x)"
   ]
  },
  {
   "cell_type": "code",
   "execution_count": 4,
   "metadata": {},
   "outputs": [],
   "source": [
    "eps= 1E-4\n",
    "n=5\n",
    "n_steps= 10000\n",
    "\n",
    "h= 0.0001\n",
    "count_max = 100   "
   ]
  },
  {
   "cell_type": "code",
   "execution_count": 5,
   "metadata": {
    "collapsed": true
   },
   "outputs": [],
   "source": [
    "##4th order RUnge-Kutta fixed step size\n",
    "def rk4(t, y,h,Neqs):\n",
    "    F  = np.zeros((Neqs),float)\n",
    "    ydumb     = np.zeros((Neqs),float)\n",
    "    k1 = np.zeros((Neqs),float)\n",
    "    k2 = np.zeros((Neqs),float)\n",
    "    k3 = np.zeros((Neqs),float)\n",
    "    k4 = np.zeros((Neqs),float)\n",
    "    fun(t, y, F)\n",
    "    for i in range(0,Neqs):\n",
    "        k1[i] = h*F[i]\n",
    "        ydumb[i] = y[i] + k1[i]/2.\n",
    "    fun(t + h/2., ydumb, F)\n",
    "    for i in range(0,Neqs):\n",
    "        k2[i] = h*F[i]\n",
    "        ydumb[i] = y[i] + k2[i]/2.\n",
    "    fun(t + h/2., ydumb, F)\n",
    "    for i in range(0,Neqs):\n",
    "        k3[i]=  h*F[i]\n",
    "        ydumb[i] = y[i] + k3[i]\n",
    "    fun(t + h, ydumb, F);\n",
    "    for i in range(0,Neqs):\n",
    "        k4[i]=h*F[i]\n",
    "        y[i]=y[i]+(k1[i]+2*(k2[i]+k3[i])+k4[i])/6.0"
   ]
  },
  {
   "cell_type": "code",
   "execution_count": 6,
   "metadata": {
    "collapsed": true
   },
   "outputs": [],
   "source": [
    "def diff(yguess,h):\n",
    "    x1=[]\n",
    "    y1=[]\n",
    "    x2=[]\n",
    "    y2=[]\n",
    "    y = np.zeros((2),float)\n",
    "    nL = n_steps\n",
    "    y[0] = 0.;                                      \n",
    "    y[1] = yguess\n",
    "    for ix in range(0,nL):\n",
    "        x = h * ix\n",
    "        rk4(x, y, h, 2)\n",
    "        x1=np.append(x1,x)\n",
    "        y1=np.append(y1,y[0])\n",
    "\n",
    "    return [x1,y1]"
   ]
  },
  {
   "cell_type": "code",
   "execution_count": 12,
   "metadata": {},
   "outputs": [
    {
     "name": "stderr",
     "output_type": "stream",
     "text": [
      "/home/davidr/anaconda3/lib/python3.6/site-packages/ipykernel_launcher.py:4: RuntimeWarning: divide by zero encountered in double_scalars\n",
      "  after removing the cwd from sys.path.\n"
     ]
    },
    {
     "name": "stdout",
     "output_type": "stream",
     "text": [
      "1.0\n",
      "1.8749999998908091\n"
     ]
    },
    {
     "data": {
      "image/png": "[encoded data removed]",
      "text/plain": [
       "<matplotlib.figure.Figure at 0x7fbaaca31f28>"
      ]
     },
     "metadata": {},
     "output_type": "display_data"
    }
   ],
   "source": [
    "ymax0=3.\n",
    "ymin0=1.\n",
    "#print('yemax yemin',yemax[-1],yemin[-1])\n",
    "\n",
    "for iter in range(count_max):    \n",
    "    ymid0=(ymax0+ymin0)/2.\n",
    "    [xmid,ymid]=diff(ymid0,h)\n",
    "    \n",
    "    if ymid[-1]-1>0.:\n",
    "        ymax0=ymid0\n",
    "        \n",
    "    else:\n",
    "        ymin0=ymid0\n",
    "\n",
    "\n",
    "plt.plot(xmid,ymid)\n",
    "print(ymid[-1])\n",
    "print(ymid0)\n",
    "plt.show()        \n"
   ]
  },
  {
   "cell_type": "code",
   "execution_count": null,
   "metadata": {
    "collapsed": true
   },
   "outputs": [],
   "source": []
  }
 ],
 "metadata": {
  "kernelspec": {
   "display_name": "Python 3",
   "language": "python",
   "name": "python3"
  },
  "language_info": {
   "codemirror_mode": {
    "name": "ipython",
    "version": 3
   },
   "file_extension": ".py",
   "mimetype": "text/x-python",
   "name": "python",
   "nbconvert_exporter": "python",
   "pygments_lexer": "ipython3",
   "version": "3.6.3"
  }
 },
 "nbformat": 4,
 "nbformat_minor": 2
}
