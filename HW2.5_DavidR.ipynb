{
 "cells": [
  {
   "cell_type": "code",
   "execution_count": 1,
   "metadata": {
    "collapsed": true
   },
   "outputs": [],
   "source": [
    "from matplotlib import pyplot as plt\n",
    "import math\n",
    "import numpy as np\n",
    "import re"
   ]
  },
  {
   "cell_type": "code",
   "execution_count": 2,
   "metadata": {
    "collapsed": true
   },
   "outputs": [],
   "source": [
    "###David R. Rice\n",
    "###Phys 604 Prof. Zhu\n",
    "###Week 2, 2nd Homework"
   ]
  },
  {
   "cell_type": "code",
   "execution_count": 3,
   "metadata": {
    "collapsed": true
   },
   "outputs": [],
   "source": [
    "##Jan 24th Quadratic Formula Computation"
   ]
  },
  {
   "cell_type": "code",
   "execution_count": 4,
   "metadata": {
    "collapsed": true
   },
   "outputs": [],
   "source": [
    "##Set up all four solutions\n",
    "def xadd(a,b,c):\n",
    "    if (b**2-(4*a*c)) <0:\n",
    "        return \"undefined\"\n",
    "    else:\n",
    "        return ((-1.*b+math.sqrt(b**2-(4*a*c)))/(2*a))\n",
    "    \n",
    "def xsub(a,b,c):\n",
    "    if (b**2-(4*a*c)) <0:\n",
    "        return \"undefined\"\n",
    "    else:\n",
    "        return ((-1.*b-math.sqrt(b**2-(4*a*c)))/(2*a))\n",
    "    \n",
    "def xprimeadd(a,b,c):\n",
    "    if (b**2-(4*a*c)) <0:\n",
    "        return \"undefined\"\n",
    "    else:\n",
    "        return ((-2*c))/(b+math.sqrt(b**2-(4*a*c)))\n",
    "    \n",
    "def xprimesub(a,b,c):\n",
    "    if (b**2-(4*a*c)) <0:\n",
    "        return \"undefined\"\n",
    "    else:\n",
    "        return ((-2*c))/(b-math.sqrt(b**2-(4*a*c)))"
   ]
  },
  {
   "cell_type": "code",
   "execution_count": 44,
   "metadata": {},
   "outputs": [
    {
     "name": "stdout",
     "output_type": "stream",
     "text": [
      "[-0.1127016653792583, -0.8872983346207417, -0.11270166537925831, -0.8872983346207418]\n",
      "[-0.010102051443364402, -0.9898979485566356, -0.01010205144336438, -0.9898979485566336]\n",
      "[-0.0010010020050140178, -0.998998997994986, -0.001001002005014042, -0.9989989979950102]\n",
      "[-0.00010001000200049459, -0.9998999899979994, -0.00010001000200050015, -0.9998999899980551]\n",
      "[-1.0000100002016676e-05, -0.9999899998999979, -1.000010000200005e-05, -0.9999899998983355]\n",
      "[-1.000001000006634e-06, -0.999998999999, -1.000001000002e-06, -0.999998999994366]\n",
      "[-1.0000000999488279e-07, -0.99999989999999, -1.00000010000002e-07, -0.9999999000511821]\n",
      "[-1.0000000105758744e-08, -0.9999999899999998, -1.0000000100000004e-08, -0.9999999894241257]\n",
      "[-1.0000000272292198e-09, -0.9999999989999999, -1.0000000010000002e-09, -0.999999972770781]\n",
      "[-1.000000082740371e-10, -0.9999999999, -1.0000000001000001e-10, -0.9999999172596359]\n",
      "[-1.000000082740371e-11, -0.99999999999, -1.00000000001e-11, -0.9999999172596358]\n",
      "[-1.0000333894311098e-12, -0.9999999999989999, -1.000000000001e-12, -0.9999666116837072]\n",
      "[-1.000310945187266e-13, -0.9999999999999, -1.0000000000001001e-13, -0.9996891514695885]\n",
      "[-9.992007221626409e-15, -0.99999999999999, -1.00000000000001e-14, -1.0007999171934436]\n",
      "[-9.992007221626409e-16, -0.999999999999999, -1.000000000000001e-15, -1.0007999171934436]\n",
      "[-1.1102230246251565e-16, -0.9999999999999999, -1.0000000000000001e-16, -0.9007199254740992]\n",
      "\n",
      "\n",
      "%Error in Upper Solution (~0)    11.0%\n",
      "%Error in Lower Solution (~-1)   9.9%\n"
     ]
    }
   ],
   "source": [
    "#Investigation of Errors\n",
    "for i in range(1,17):\n",
    "    answers=[]\n",
    "    a=1\n",
    "    b=1\n",
    "    c=10**(-i)\n",
    "    answers=[xadd(a,b,c),xsub(a,b,c),xprimeadd(a,b,c),xprimesub(a,b,c)]\n",
    "    print(answers)\n",
    "print('\\n')    \n",
    "print('%Error in Upper Solution (~0)    '+str(round(abs((answers[0]-answers[2])/(answers[2])*100),1))+'%')\n",
    "print('%Error in Lower Solution (~-1)   '+str(round(abs((answers[3]-answers[1])/(answers[1])*100),1))+'%')"
   ]
  },
  {
   "cell_type": "code",
   "execution_count": 6,
   "metadata": {},
   "outputs": [],
   "source": [
    "##Precise Solutions for User Input\n",
    "#Removes Subtraction for both positive and negative b\n",
    "#x_u=q/a   x_L=c/q\n",
    "#Where q=1/2*(b+(signofb)*sqroot(b^2-4ac))"
   ]
  },
  {
   "cell_type": "code",
   "execution_count": 41,
   "metadata": {},
   "outputs": [
    {
     "name": "stdout",
     "output_type": "stream",
     "text": [
      "Input the coefficients of ax^2+bx+c in form a,b,c 1,-1,1e-28\n",
      "1x^2+-1x+1e-28\n",
      "The first root is  1.000000000000000000000000000000\n",
      "The second root is  0.000000000000000000000000000100\n"
     ]
    }
   ],
   "source": [
    "def q(a,b,c):\n",
    "    if b>0:       \n",
    "        return (0.5*(b+math.sqrt(b**2-(4.*a*c))))\n",
    "        \n",
    "    elif b<0:\n",
    "        return (0.5*(b+-1*math.sqrt(b**2-(4.*a*c))))\n",
    "        \n",
    "    else:\n",
    "        return (math.sqrt(-a*c))\n",
    "        \n",
    "coeff = input(\"Input the coefficients of ax^2+bx+c in form a,b,c \")\n",
    "coef=re.split(',',coeff)\n",
    "print(coef[0]+'x^2+'+coef[1]+'x+'+coef[2])\n",
    "\n",
    "a=float(coef[0])\n",
    "b=float(coef[1])\n",
    "c=float(coef[2])\n",
    "\n",
    "if (b**2-(4*a*c)) < 0:\n",
    "       print(\"Roots are complex\")\n",
    "        \n",
    "else:\n",
    "    upper=-q(a,b,c)/a\n",
    "    lower=-c/q(a,b,c)\n",
    "    \n",
    "    print('The first root is  %.30f' %upper)\n",
    "    print('The second root is  %.30f' %lower)\n"
   ]
  },
  {
   "cell_type": "code",
   "execution_count": 42,
   "metadata": {},
   "outputs": [
    {
     "name": "stdout",
     "output_type": "stream",
     "text": [
      "The first root is  0.000000000000000000000000000000\n",
      "The second root is  1.000000000000000000000000000000\n"
     ]
    }
   ],
   "source": [
    "##Compared to regular quadratic\n",
    "if (b**2-(4*a*c)) < 0:\n",
    "       print(\"Roots are complex\")\n",
    "else:    \n",
    "    upper=(-b+math.sqrt(b**2-4*a*c))/(2*a)\n",
    "    lower=(-b-math.sqrt(b**2-4*a*c))/(2*a)\n",
    "    print('The first root is  %.30f' %lower)\n",
    "    print('The second root is  %.30f' %upper)\n",
    "   "
   ]
  },
  {
   "cell_type": "code",
   "execution_count": null,
   "metadata": {
    "collapsed": true
   },
   "outputs": [],
   "source": []
  }
 ],
 "metadata": {
  "kernelspec": {
   "display_name": "Python 3",
   "language": "python",
   "name": "python3"
  },
  "language_info": {
   "codemirror_mode": {
    "name": "ipython",
    "version": 3
   },
   "file_extension": ".py",
   "mimetype": "text/x-python",
   "name": "python",
   "nbconvert_exporter": "python",
   "pygments_lexer": "ipython3",
   "version": "3.6.3"
  }
 },
 "nbformat": 4,
 "nbformat_minor": 2
}
