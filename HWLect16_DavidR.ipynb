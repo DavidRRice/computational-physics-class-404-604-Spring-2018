{
 "cells": [
  {
   "cell_type": "code",
   "execution_count": null,
   "metadata": {
    "collapsed": true
   },
   "outputs": [],
   "source": [
    "###David R. Rice\n",
    "###Phys 604 Prof. Zhu\n",
    "###Lecture 16 Homework"
   ]
  },
  {
   "cell_type": "code",
   "execution_count": 1,
   "metadata": {
    "collapsed": true
   },
   "outputs": [],
   "source": [
    "##Highly Nonlinear Oscillator\n",
    "##Decompose the solution into Fourier series\n",
    "##Determine the numbe rof higher harmonics that contribute at least 10%\n",
    "##Reconstruct the signal"
   ]
  },
  {
   "cell_type": "code",
   "execution_count": 30,
   "metadata": {},
   "outputs": [
    {
     "data": {
      "image/png": "[encoded data removed]",
      "text/plain": [
       "<matplotlib.figure.Figure at 0x7f7f0c4024a8>"
      ]
     },
     "metadata": {},
     "output_type": "display_data"
    }
   ],
   "source": [
    "\n",
    "\"\"\" From \"COMPUTATIONAL PHYSICS\", 3rd Ed, Enlarged Python eTextBook  \n",
    "    by RH Landau, MJ Paez, and CC Bordeianu\n",
    "    Copyright Wiley-VCH Verlag GmbH & Co. KGaA, Berlin;  Copyright R Landau,\n",
    "    Oregon State Unv, MJ Paez, Univ Antioquia, C Bordeianu, Univ Bucharest, 2015.\n",
    "    Support by National Science Foundation\"\"\"\n",
    "\n",
    "import matplotlib.pylab as p\n",
    "import numpy as np\n",
    "\n",
    "#   Initialization\n",
    "a = 0.0\n",
    "b = 0.4375\n",
    "n = 1000                                         \n",
    "ydumb = np.zeros((2), float);    y = np.zeros((2), float)\n",
    "fReturn = np.zeros((2), float);  k1 = np.zeros((2), float)\n",
    "k2 = np.zeros((2), float);       k3 = np.zeros((2), float) \n",
    "k4 = np.zeros((2), float)\n",
    "y[0] = 3.;   y[1] = -5.\n",
    "t = a;       h = (b-a)/n;\n",
    "xp=np.array([0.0])\n",
    "yp=np.array([y[0]])\n",
    "\n",
    "def f( t, y):                                           # Force function \n",
    "    fReturn[0] = y[1]                                            \n",
    "    fReturn[1] = -0.01*y[0]**11      \n",
    "    return fReturn\n",
    "\n",
    "def rk4(t,h,n):                 \n",
    "    k1 = [0]*(n)\n",
    "    k2 = [0]*(n)\n",
    "    k3 = [0]*(n)\n",
    "    k4 = [0]*(n)\n",
    "    fR = [0]*(n)\n",
    "    ydumb = [0]*(n)\n",
    "    fR = f(t, y)                                            # Returns RHS's  \n",
    "    for i in range(0, n):\n",
    "       k1[i] = h*fR[i]                             \n",
    "    for i in range(0, n):\n",
    "        ydumb[i] = y[i] + k1[i]/2. \n",
    "    k2 = h*f(t+h/2., ydumb) \n",
    "    for i in range(0, n):\n",
    "        ydumb[i] = y[i] + k2[i]/2. \n",
    "    k3 = h*f(t+h/2., ydumb)\n",
    "    for i in range(0, n):\n",
    "        ydumb[i] = y[i] + k3[i] \n",
    "    k4 = h*f(t+h, ydumb) \n",
    "    for i in range(0, 2):\n",
    "        y[i] = y[i] + (k1[i] + 2.*(k2[i] + k3[i]) + k4[i])/6.\n",
    "    return y    \n",
    "\n",
    "while (t < b):                                              # Time loop\n",
    "    if ((t + h) > b):\n",
    "        h = b - t                                           # Last step\n",
    "    y = rk4(t,h,2)\n",
    "    t = t + h\n",
    "    xp=np.append(xp, t)\n",
    "    yp=np.append(yp,y[0])\n",
    "\n",
    "#for i in range(len(yp)):\n",
    "#    if yp[i]>=3:\n",
    "#        print(yp[i])\n",
    "#        print(xp[i])\n",
    "\n",
    "p.plot(xp,yp)\n",
    "p.xlabel(\"time\")\n",
    "p.ylabel(\"position\")\n",
    "\n",
    "p.show()"
   ]
  },
  {
   "cell_type": "code",
   "execution_count": 31,
   "metadata": {},
   "outputs": [
    {
     "data": {
      "image/png": "[encoded data removed]",
      "text/plain": [
       "<matplotlib.figure.Figure at 0x7f7f0c803780>"
      ]
     },
     "metadata": {},
     "output_type": "display_data"
    }
   ],
   "source": [
    "import cmath                                            # complex math\n",
    "N = 1000;                  Np = N                           \n",
    "signal = yp     \n",
    "twopi  = 2.*pi;       sq2pi = 1./sqrt(twopi);         h = twopi/N\n",
    "dftz   = zeros( (Np), complex )                  # Complex elements\n",
    "xa = xp   \n",
    "nplot = zeros( N, float )   \n",
    "fplot = zeros( N, float ) \n",
    "      \n",
    "def fourier(dftz):                                              # DFT\n",
    "    for n in range(0, Np):              \n",
    "      zsum = complex(0.0, 0.0)                \n",
    "      for  k in range(0, N):                              \n",
    "          zexpo = complex(0, twopi*k*n/N)           # Complex exponent\n",
    "          zsum += signal[k]*exp(-zexpo)           \n",
    "      dftz[n] = zsum * sq2pi      \n",
    "      nplot[n] = n\n",
    "      fplot[n] = sqrt(dftz[n].imag*dftz[n].imag+dftz[n].real*dftz[n].real)\n",
    "\n",
    "#f(signal);       \n",
    "fourier(dftz)              # Call signal, transform\n",
    "plt.plot(nplot,fplot)\n",
    "plt.show()"
   ]
  },
  {
   "cell_type": "code",
   "execution_count": 40,
   "metadata": {},
   "outputs": [
    {
     "data": {
      "image/png": "[encoded data removed]",
      "text/plain": [
       "<matplotlib.figure.Figure at 0x7f7f0c278128>"
      ]
     },
     "metadata": {},
     "output_type": "display_data"
    }
   ],
   "source": [
    "\n",
    "## Find the Coefficients of Fourier Series using Riemann Sum and Complex numbers\n",
    "\n",
    "def cn(n):\n",
    "   c = yp*np.exp(-1j*2*n*np.pi*xp/b)\n",
    "   return c.sum()/c.size\n",
    "\n",
    "def f(x, Nh):\n",
    "   f = np.array([2*cn(i)*np.exp(1j*2*i*np.pi*x/b) for i in range(1,Nh+1)])\n",
    "   return f.sum()\n",
    "\n",
    "y2 = np.array([f(t,50).real for t in xp])\n",
    "\n",
    "plt.plot(xp, yp)\n",
    "plt.plot(xp, y2)\n",
    "plt.show()"
   ]
  },
  {
   "cell_type": "code",
   "execution_count": null,
   "metadata": {
    "collapsed": true
   },
   "outputs": [],
   "source": []
  }
 ],
 "metadata": {
  "kernelspec": {
   "display_name": "Python 3",
   "language": "python",
   "name": "python3"
  },
  "language_info": {
   "codemirror_mode": {
    "name": "ipython",
    "version": 3
   },
   "file_extension": ".py",
   "mimetype": "text/x-python",
   "name": "python",
   "nbconvert_exporter": "python",
   "pygments_lexer": "ipython3",
   "version": "3.6.3"
  }
 },
 "nbformat": 4,
 "nbformat_minor": 2
}
