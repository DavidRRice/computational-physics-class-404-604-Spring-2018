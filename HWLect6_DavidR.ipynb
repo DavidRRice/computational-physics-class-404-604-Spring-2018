{
 "cells": [
  {
   "cell_type": "code",
   "execution_count": 32,
   "metadata": {},
   "outputs": [],
   "source": [
    "from matplotlib import pyplot as plt\n",
    "import math as m\n",
    "import numpy as np\n",
    "import numdifftools as nd"
   ]
  },
  {
   "cell_type": "code",
   "execution_count": 33,
   "metadata": {
    "collapsed": true
   },
   "outputs": [],
   "source": [
    "###David R. Rice\n",
    "###Phys 604 Prof. Zhu\n",
    "###Lecture 6 and 7 Homework"
   ]
  },
  {
   "cell_type": "code",
   "execution_count": 34,
   "metadata": {},
   "outputs": [
    {
     "data": {
      "image/png": "[encoded data removed]",
      "text/plain": [
       "<matplotlib.figure.Figure at 0x7f6f4528eb38>"
      ]
     },
     "metadata": {},
     "output_type": "display_data"
    }
   ],
   "source": [
    "#Graph of functions solved for x2 to estimate solution\n",
    "def f1(x):\n",
    "    return (10.-x*x)/x\n",
    "\n",
    "def f2(x):\n",
    "    return (-1+np.sqrt(1.+4.*3.*x*57))/6./x\n",
    "\n",
    "x=np.arange(0.01,3,0.01)\n",
    "plt.plot(x,f1(x))\n",
    "plt.plot(x,f2(x))\n",
    "plt.axis([0,3,0,8])\n",
    "plt.ylabel('x2')\n",
    "plt.xlabel('x1')\n",
    "plt.show()"
   ]
  },
  {
   "cell_type": "code",
   "execution_count": 54,
   "metadata": {},
   "outputs": [],
   "source": [
    "##Newton-Raphson Method to solve non-linear equations\n",
    "##Modeled after \"Introduction to Numerical Programming\" (Beau ,2015)\n",
    "\n",
    "#Define functions\n",
    "def F(x):\n",
    "    return np.array([x[0]*x[0]+x[0]*x[1]-10.,\n",
    "                     x[1]+3.*x[0]*x[1]*x[1]-57.])\n",
    "\n",
    "#Jacobian using numdifftools package\n",
    "jac=nd.Jacobian(F)\n"
   ]
  },
  {
   "cell_type": "code",
   "execution_count": 60,
   "metadata": {},
   "outputs": [],
   "source": [
    "#Newton Raphson\n",
    "def Newtonsys(F,jac,x,eps):\n",
    "    Fval=F(x)\n",
    "    Fnorm=np.linalg.norm(Fval,ord=2)\n",
    "    count=0\n",
    "    while abs(Fnorm)>eps and count<200:\n",
    "        dx=np.linalg.solve(jac(x), -Fval)\n",
    "        x=x+dx\n",
    "        Fval=F(x)\n",
    "        Fnorm=np.linalg.norm(Fval,ord=2)\n",
    "        count+=1\n",
    "    return x, count"
   ]
  },
  {
   "cell_type": "code",
   "execution_count": 65,
   "metadata": {},
   "outputs": [
    {
     "name": "stdout",
     "output_type": "stream",
     "text": [
      "x0=2.0\n",
      "x1=3.0\n",
      "7\n"
     ]
    }
   ],
   "source": [
    "##Evaluate\n",
    "x, count = Newtonsys(F,jac,x=np.array([1.0,1.0]),eps=10**-16)\n",
    "\n",
    "for i in range(2):\n",
    "    print('x'+str(i)+\"=\"+str(x[i]))\n",
    "print(count)"
   ]
  }
 ],
 "metadata": {
  "kernelspec": {
   "display_name": "Python 3",
   "language": "python",
   "name": "python3"
  },
  "language_info": {
   "codemirror_mode": {
    "name": "ipython",
    "version": 3
   },
   "file_extension": ".py",
   "mimetype": "text/x-python",
   "name": "python",
   "nbconvert_exporter": "python",
   "pygments_lexer": "ipython3",
   "version": "3.6.3"
  }
 },
 "nbformat": 4,
 "nbformat_minor": 2
}
